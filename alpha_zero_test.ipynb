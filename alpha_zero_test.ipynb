{
 "cells": [
  {
   "cell_type": "code",
   "execution_count": null,
   "metadata": {
    "collapsed": false
   },
   "outputs": [],
   "source": [
    "import numpy as np\n",
    "import matplotlib.pyplot as plt\n",
    "from pylab import *\n",
    "from sympy.solvers import solve\n",
    "from sympy import Symbol, sqrt\n",
    "%matplotlib inline"
   ]
  },
  {
   "cell_type": "code",
   "execution_count": null,
   "metadata": {
    "collapsed": false
   },
   "outputs": [],
   "source": [
    "def deltap(p, n, c):\n",
    "    return np.array([ (p - c / float(x + 1) ) for x in n])\n",
    "\n",
    "def alphan_for_p(p, alpha, annot):\n",
    "    x = Symbol('x')\n",
    "    nlevel = (p, alpha_level[alpha],  int(solve(p * sqrt( x / (p * (1 - p)) ) - alpha, x)[0]))\n",
    "    annot.append( \"p=%f alpha=%s n=%i\" % nlevel)\n",
    "    plt.text(nlevel, alpha, annot)\n",
    "    plt.text(nlevel[2], alpha, str(nlevel[2]))\n",
    "\n",
    "def zerot(p, n, c = 0.):\n",
    "    return  deltap(p, n, c) * np.sqrt(n / (p * (1 - p)))\n"
   ]
  },
  {
   "cell_type": "code",
   "execution_count": null,
   "metadata": {
    "collapsed": true
   },
   "outputs": [],
   "source": [
    "alpha_level = {\n",
    "        1.96: \"95%\", \n",
    "        2.326: \"98%\",\n",
    "        2.576: \"99%\"\n",
    "    }\n",
    "\n",
    "proportions = [0.03, 0.014, 0.006, 0.003]\n",
    "annot = [\"\"]"
   ]
  },
  {
   "cell_type": "code",
   "execution_count": null,
   "metadata": {
    "collapsed": false
   },
   "outputs": [],
   "source": [
    "n = np.arange(0, 2500, 10)\n",
    "lenn = len(n)\n",
    "fig = plt.figure()\n",
    "fig.suptitle('zero test level for n', fontsize=14)\n",
    "for p in proportions:\n",
    "    y = zerot(p, n)\n",
    "    plt.plot(n, y, label = \"p=%s\" % p)\n",
    "for a in alpha_level:\n",
    "    plt.plot( n, [a] * len(n), label = \"alpha=%s\" % alpha_level[a])\n",
    "    for p in proportions:\n",
    "        alphan_for_p(p, a, annot)\n",
    "print(\"\\n\".join(annot))\n",
    "legend()\n",
    "plt.xlabel('n')\n",
    "plt.ylabel('zero level')\n",
    "plt.show()\n"
   ]
  }
 ],
 "metadata": {
  "kernelspec": {
   "display_name": "Python 3",
   "language": "python",
   "name": "python3"
  },
  "language_info": {
   "codemirror_mode": {
    "name": "ipython",
    "version": 3
   },
   "file_extension": ".py",
   "mimetype": "text/x-python",
   "name": "python",
   "nbconvert_exporter": "python",
   "pygments_lexer": "ipython3",
   "version": "3.5.1"
  }
 },
 "nbformat": 4,
 "nbformat_minor": 0
}
